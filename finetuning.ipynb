{
 "cells": [
  {
   "cell_type": "markdown",
   "metadata": {},
   "source": [
    "# Setup"
   ]
  },
  {
   "cell_type": "markdown",
   "metadata": {
    "id": "aHimx8NGMWDj"
   },
   "source": [
    "### Install the client library"
   ]
  },
  {
   "cell_type": "code",
   "execution_count": 1,
   "metadata": {
    "id": "cbcf72bcb56d"
   },
   "outputs": [],
   "source": [
    "!pip install -q google-generativeai"
   ]
  },
  {
   "cell_type": "markdown",
   "metadata": {
    "id": "jdIYSl2kN0cq"
   },
   "source": [
    "### Import libraries"
   ]
  },
  {
   "cell_type": "code",
   "execution_count": 1,
   "metadata": {
    "id": "8enrppafJPCX"
   },
   "outputs": [],
   "source": [
    "import os\n",
    "import google.generativeai as genai"
   ]
  },
  {
   "cell_type": "markdown",
   "metadata": {},
   "source": [
    "Get your own API Key from: https://aistudio.google.com/app/apikey\n",
    "\n",
    "Step 1: Export your API Key as an environment variable\n",
    "\n",
    "- Windows: setx GEMINI_API_KEY \"yourkey\"\n",
    "\n",
    "- Mac/Linux: export GEMINI_API_KEY=\"yourkey\"\n",
    "\n",
    "Step 2: Restart VSCode or whatever code environment you're using"
   ]
  },
  {
   "cell_type": "code",
   "execution_count": 2,
   "metadata": {
    "id": "lhqVUjH7ZKUi"
   },
   "outputs": [],
   "source": [
    "genai.configure(api_key=os.environ['GEMINI_API_KEY'])"
   ]
  },
  {
   "cell_type": "markdown",
   "metadata": {
    "id": "P-MYZECwlRCq"
   },
   "source": [
    "You can check you existing tuned models with the `genai.list_tuned_model` method."
   ]
  },
  {
   "cell_type": "code",
   "execution_count": 3,
   "metadata": {
    "id": "XyWzoYFxU4r6"
   },
   "outputs": [
    {
     "name": "stdout",
     "output_type": "stream",
     "text": [
      "tunedModels/generate-num-6887\n"
     ]
    }
   ],
   "source": [
    "for i, m in zip(range(5), genai.list_tuned_models()):\n",
    "  old_model = m.name\n",
    "  print(m.name)"
   ]
  },
  {
   "cell_type": "markdown",
   "metadata": {},
   "source": [
    "# Preparing Training Data"
   ]
  },
  {
   "cell_type": "code",
   "execution_count": 4,
   "metadata": {},
   "outputs": [],
   "source": [
    "import pandas as pd\n",
    "\n",
    "data_path = \"c_train0.jsonl\"\n",
    "tests_path = \"tests_all.jsonl\"\n",
    "\n",
    "df = pd.read_json(data_path, lines=True)\n",
    "tests_df = pd.read_json(tests_path, lines=True)"
   ]
  },
  {
   "cell_type": "code",
   "execution_count": 5,
   "metadata": {},
   "outputs": [
    {
     "data": {
      "text/html": [
       "<div>\n",
       "<style scoped>\n",
       "    .dataframe tbody tr th:only-of-type {\n",
       "        vertical-align: middle;\n",
       "    }\n",
       "\n",
       "    .dataframe tbody tr th {\n",
       "        vertical-align: top;\n",
       "    }\n",
       "\n",
       "    .dataframe thead th {\n",
       "        text-align: right;\n",
       "    }\n",
       "</style>\n",
       "<table border=\"1\" class=\"dataframe\">\n",
       "  <thead>\n",
       "    <tr style=\"text-align: right;\">\n",
       "      <th></th>\n",
       "      <th>id</th>\n",
       "      <th>buggy_submission_id</th>\n",
       "      <th>fixed_submission_id</th>\n",
       "      <th>problem_id</th>\n",
       "      <th>user_id</th>\n",
       "      <th>buggy_code</th>\n",
       "      <th>fixed_code</th>\n",
       "      <th>labels</th>\n",
       "      <th>change_count</th>\n",
       "      <th>line_hunks</th>\n",
       "      <th>errors</th>\n",
       "    </tr>\n",
       "  </thead>\n",
       "  <tbody>\n",
       "    <tr>\n",
       "      <th>0</th>\n",
       "      <td>180</td>\n",
       "      <td>271</td>\n",
       "      <td>272</td>\n",
       "      <td>p00000</td>\n",
       "      <td>u772959354</td>\n",
       "      <td>#include &lt;stdio.h&gt;\\n\\nint main(void) {\\n  int ...</td>\n",
       "      <td>#include &lt;stdio.h&gt;\\n\\nint main(void) {\\n  int ...</td>\n",
       "      <td>[literal.string.change, call.arguments.change,...</td>\n",
       "      <td>1</td>\n",
       "      <td>1.0</td>\n",
       "      <td>NaN</td>\n",
       "    </tr>\n",
       "    <tr>\n",
       "      <th>1</th>\n",
       "      <td>183</td>\n",
       "      <td>275</td>\n",
       "      <td>276</td>\n",
       "      <td>p00000</td>\n",
       "      <td>u690485037</td>\n",
       "      <td>#include &lt;stdio.h&gt;\\n#define NINE 9\\n\\nint main...</td>\n",
       "      <td>#include &lt;stdio.h&gt;\\n#define NINE 9\\n\\nint main...</td>\n",
       "      <td>[literal.string.change, call.arguments.change,...</td>\n",
       "      <td>1</td>\n",
       "      <td>1.0</td>\n",
       "      <td>NaN</td>\n",
       "    </tr>\n",
       "    <tr>\n",
       "      <th>2</th>\n",
       "      <td>184</td>\n",
       "      <td>277</td>\n",
       "      <td>278</td>\n",
       "      <td>p00000</td>\n",
       "      <td>u226511948</td>\n",
       "      <td>#include &lt;stdio.h&gt;\\n\\nint main() {\\n\\n  int i,...</td>\n",
       "      <td>#include &lt;stdio.h&gt;\\n\\nint main() {\\n\\n  int i,...</td>\n",
       "      <td>[literal.string.change, call.arguments.change,...</td>\n",
       "      <td>3</td>\n",
       "      <td>1.0</td>\n",
       "      <td>NaN</td>\n",
       "    </tr>\n",
       "    <tr>\n",
       "      <th>3</th>\n",
       "      <td>185</td>\n",
       "      <td>279</td>\n",
       "      <td>278</td>\n",
       "      <td>p00000</td>\n",
       "      <td>u226511948</td>\n",
       "      <td>#include &lt;stdio.h&gt;\\n\\nint main() {\\n\\n  int i,...</td>\n",
       "      <td>#include &lt;stdio.h&gt;\\n\\nint main() {\\n\\n  int i,...</td>\n",
       "      <td>[literal.number.change, assignment.value.chang...</td>\n",
       "      <td>4</td>\n",
       "      <td>2.0</td>\n",
       "      <td>NaN</td>\n",
       "    </tr>\n",
       "    <tr>\n",
       "      <th>4</th>\n",
       "      <td>187</td>\n",
       "      <td>281</td>\n",
       "      <td>278</td>\n",
       "      <td>p00000</td>\n",
       "      <td>u226511948</td>\n",
       "      <td>#include &lt;stdio.h&gt;\\n\\nint main() {\\n\\n  int i,...</td>\n",
       "      <td>#include &lt;stdio.h&gt;\\n\\nint main() {\\n\\n  int i,...</td>\n",
       "      <td>[literal.number.change, assignment.value.chang...</td>\n",
       "      <td>1</td>\n",
       "      <td>1.0</td>\n",
       "      <td>NaN</td>\n",
       "    </tr>\n",
       "  </tbody>\n",
       "</table>\n",
       "</div>"
      ],
      "text/plain": [
       "    id  buggy_submission_id  fixed_submission_id problem_id     user_id  \\\n",
       "0  180                  271                  272     p00000  u772959354   \n",
       "1  183                  275                  276     p00000  u690485037   \n",
       "2  184                  277                  278     p00000  u226511948   \n",
       "3  185                  279                  278     p00000  u226511948   \n",
       "4  187                  281                  278     p00000  u226511948   \n",
       "\n",
       "                                          buggy_code  \\\n",
       "0  #include <stdio.h>\\n\\nint main(void) {\\n  int ...   \n",
       "1  #include <stdio.h>\\n#define NINE 9\\n\\nint main...   \n",
       "2  #include <stdio.h>\\n\\nint main() {\\n\\n  int i,...   \n",
       "3  #include <stdio.h>\\n\\nint main() {\\n\\n  int i,...   \n",
       "4  #include <stdio.h>\\n\\nint main() {\\n\\n  int i,...   \n",
       "\n",
       "                                          fixed_code  \\\n",
       "0  #include <stdio.h>\\n\\nint main(void) {\\n  int ...   \n",
       "1  #include <stdio.h>\\n#define NINE 9\\n\\nint main...   \n",
       "2  #include <stdio.h>\\n\\nint main() {\\n\\n  int i,...   \n",
       "3  #include <stdio.h>\\n\\nint main() {\\n\\n  int i,...   \n",
       "4  #include <stdio.h>\\n\\nint main() {\\n\\n  int i,...   \n",
       "\n",
       "                                              labels  change_count  \\\n",
       "0  [literal.string.change, call.arguments.change,...             1   \n",
       "1  [literal.string.change, call.arguments.change,...             1   \n",
       "2  [literal.string.change, call.arguments.change,...             3   \n",
       "3  [literal.number.change, assignment.value.chang...             4   \n",
       "4  [literal.number.change, assignment.value.chang...             1   \n",
       "\n",
       "   line_hunks errors  \n",
       "0         1.0    NaN  \n",
       "1         1.0    NaN  \n",
       "2         1.0    NaN  \n",
       "3         2.0    NaN  \n",
       "4         1.0    NaN  "
      ]
     },
     "execution_count": 5,
     "metadata": {},
     "output_type": "execute_result"
    }
   ],
   "source": [
    "df.head()"
   ]
  },
  {
   "cell_type": "code",
   "execution_count": 6,
   "metadata": {},
   "outputs": [
    {
     "data": {
      "text/plain": [
       "22888"
      ]
     },
     "execution_count": 6,
     "metadata": {},
     "output_type": "execute_result"
    }
   ],
   "source": [
    "len(df)"
   ]
  },
  {
   "cell_type": "code",
   "execution_count": 11,
   "metadata": {},
   "outputs": [],
   "source": [
    "# Filter out rows where fixed code length > 5000 because the free Gemini Api has this length limit on the output.\n",
    "filtered_df = df[df['fixed_code'].str.len() <= 5000]\n",
    "\n",
    "# Merge the two DataFrames on 'problem_id' for faster access to 'input' and 'output'\n",
    "merged_df = filtered_df.merge(tests_df[['problem_id', 'input', 'output']], on='problem_id', how='left')\n",
    "\n",
    "# Create the 'text_input' and 'output' columns directly within the DataFrame\n",
    "merged_df['text_input'] = (\n",
    "    \"Fix the given buggy code given the code's input and expected output:\\n\\n\"\n",
    "    \"Buggy Code:\\n\" + merged_df['buggy_code'] + \"\\n\\n\"\n",
    "    \"Code Input:\\n\" + merged_df['input'] + \"\\n\\n\"\n",
    "    \"Code Expected Output:\\n\" + merged_df['output']\n",
    ")\n",
    "merged_df['output'] = merged_df['fixed_code']\n",
    "\n",
    "# Filter out rows where prompt length > 40000 because the free Gemini Api has this length limit on the input.\n",
    "filtered_merged_df = merged_df[merged_df['text_input'].str.len() <= 40000]\n",
    "\n",
    "# Sample n rows per type of problem (problem_id)\n",
    "n = 4\n",
    "sampled_df = filtered_merged_df.groupby('problem_id', group_keys=False).apply(lambda x: x.sample(min(len(x), n), random_state=42),\n",
    "                                                                              include_groups=False)\n",
    "\n",
    "# Select relevant columns and save as CSV\n",
    "sampled_df[['text_input', 'output']].to_csv('training_data.csv', index=False)"
   ]
  },
  {
   "cell_type": "code",
   "execution_count": 12,
   "metadata": {},
   "outputs": [],
   "source": [
    "training_df = pd.read_csv('training_data.csv')"
   ]
  },
  {
   "cell_type": "code",
   "execution_count": 13,
   "metadata": {},
   "outputs": [
    {
     "data": {
      "text/html": [
       "<div>\n",
       "<style scoped>\n",
       "    .dataframe tbody tr th:only-of-type {\n",
       "        vertical-align: middle;\n",
       "    }\n",
       "\n",
       "    .dataframe tbody tr th {\n",
       "        vertical-align: top;\n",
       "    }\n",
       "\n",
       "    .dataframe thead th {\n",
       "        text-align: right;\n",
       "    }\n",
       "</style>\n",
       "<table border=\"1\" class=\"dataframe\">\n",
       "  <thead>\n",
       "    <tr style=\"text-align: right;\">\n",
       "      <th></th>\n",
       "      <th>text_input</th>\n",
       "      <th>output</th>\n",
       "    </tr>\n",
       "  </thead>\n",
       "  <tbody>\n",
       "    <tr>\n",
       "      <th>0</th>\n",
       "      <td>Fix the given buggy code given the code's inpu...</td>\n",
       "      <td>\\n#include &lt;stdio.h&gt;\\n\\nint main() {\\n  int i,...</td>\n",
       "    </tr>\n",
       "    <tr>\n",
       "      <th>1</th>\n",
       "      <td>Fix the given buggy code given the code's inpu...</td>\n",
       "      <td>#include &lt;stdio.h&gt;\\nint main() {\\n  int i, j;\\...</td>\n",
       "    </tr>\n",
       "    <tr>\n",
       "      <th>2</th>\n",
       "      <td>Fix the given buggy code given the code's inpu...</td>\n",
       "      <td>#include &lt;stdio.h&gt;\\n\\nint main() {\\n  int i, j...</td>\n",
       "    </tr>\n",
       "    <tr>\n",
       "      <th>3</th>\n",
       "      <td>Fix the given buggy code given the code's inpu...</td>\n",
       "      <td>#include &lt;stdio.h&gt;\\n\\nint main(void) {\\n  int ...</td>\n",
       "    </tr>\n",
       "    <tr>\n",
       "      <th>4</th>\n",
       "      <td>Fix the given buggy code given the code's inpu...</td>\n",
       "      <td>#include &lt;math.h&gt;\\n#include &lt;stdio.h&gt;\\n\\nint m...</td>\n",
       "    </tr>\n",
       "  </tbody>\n",
       "</table>\n",
       "</div>"
      ],
      "text/plain": [
       "                                          text_input  \\\n",
       "0  Fix the given buggy code given the code's inpu...   \n",
       "1  Fix the given buggy code given the code's inpu...   \n",
       "2  Fix the given buggy code given the code's inpu...   \n",
       "3  Fix the given buggy code given the code's inpu...   \n",
       "4  Fix the given buggy code given the code's inpu...   \n",
       "\n",
       "                                              output  \n",
       "0  \\n#include <stdio.h>\\n\\nint main() {\\n  int i,...  \n",
       "1  #include <stdio.h>\\nint main() {\\n  int i, j;\\...  \n",
       "2  #include <stdio.h>\\n\\nint main() {\\n  int i, j...  \n",
       "3  #include <stdio.h>\\n\\nint main(void) {\\n  int ...  \n",
       "4  #include <math.h>\\n#include <stdio.h>\\n\\nint m...  "
      ]
     },
     "execution_count": 13,
     "metadata": {},
     "output_type": "execute_result"
    }
   ],
   "source": [
    "training_df.head()"
   ]
  },
  {
   "cell_type": "code",
   "execution_count": 14,
   "metadata": {},
   "outputs": [
    {
     "data": {
      "text/plain": [
       "4514"
      ]
     },
     "execution_count": 14,
     "metadata": {},
     "output_type": "execute_result"
    }
   ],
   "source": [
    "len(training_df)"
   ]
  },
  {
   "cell_type": "markdown",
   "metadata": {},
   "source": [
    "# Training your model"
   ]
  },
  {
   "cell_type": "markdown",
   "metadata": {},
   "source": [
    "Train it on this website: https://aistudio.google.com/app/tune"
   ]
  },
  {
   "cell_type": "markdown",
   "metadata": {
    "id": "rkoQTXb1vSBC"
   },
   "source": [
    "## Evaluate your model\n",
    "\n",
    "You can use the `genai.generate_content` method and specify the name of your model to test your model performance."
   ]
  },
  {
   "cell_type": "code",
   "execution_count": null,
   "metadata": {
    "id": "zO0YcuSyxydZ"
   },
   "outputs": [],
   "source": [
    "model = genai.GenerativeModel(model_name=old_model)"
   ]
  },
  {
   "cell_type": "code",
   "execution_count": 45,
   "metadata": {},
   "outputs": [],
   "source": [
    "test_df = pd.read_json(\"c_test0.jsonl\", lines=True)"
   ]
  },
  {
   "cell_type": "code",
   "execution_count": 53,
   "metadata": {},
   "outputs": [
    {
     "data": {
      "text/html": [
       "<div>\n",
       "<style scoped>\n",
       "    .dataframe tbody tr th:only-of-type {\n",
       "        vertical-align: middle;\n",
       "    }\n",
       "\n",
       "    .dataframe tbody tr th {\n",
       "        vertical-align: top;\n",
       "    }\n",
       "\n",
       "    .dataframe thead th {\n",
       "        text-align: right;\n",
       "    }\n",
       "</style>\n",
       "<table border=\"1\" class=\"dataframe\">\n",
       "  <thead>\n",
       "    <tr style=\"text-align: right;\">\n",
       "      <th></th>\n",
       "      <th>id</th>\n",
       "      <th>buggy_submission_id</th>\n",
       "      <th>fixed_submission_id</th>\n",
       "      <th>problem_id</th>\n",
       "      <th>user_id</th>\n",
       "      <th>buggy_code</th>\n",
       "      <th>fixed_code</th>\n",
       "      <th>labels</th>\n",
       "      <th>change_count</th>\n",
       "      <th>line_hunks</th>\n",
       "      <th>errors</th>\n",
       "    </tr>\n",
       "  </thead>\n",
       "  <tbody>\n",
       "    <tr>\n",
       "      <th>0</th>\n",
       "      <td>209</td>\n",
       "      <td>310</td>\n",
       "      <td>311</td>\n",
       "      <td>p00000</td>\n",
       "      <td>u940395729</td>\n",
       "      <td>#include &lt;stdio.h&gt;\\nint main() {\\n  int i, j;\\...</td>\n",
       "      <td>#include &lt;stdio.h&gt;\\nint main() {\\n  int i, j;\\...</td>\n",
       "      <td>[literal.string.change, call.arguments.change,...</td>\n",
       "      <td>1</td>\n",
       "      <td>1</td>\n",
       "      <td>NaN</td>\n",
       "    </tr>\n",
       "    <tr>\n",
       "      <th>1</th>\n",
       "      <td>220</td>\n",
       "      <td>330</td>\n",
       "      <td>331</td>\n",
       "      <td>p00000</td>\n",
       "      <td>u673315234</td>\n",
       "      <td>#include &lt;stdio.h&gt;\\n\\ntypedef int S4;\\n\\n#defi...</td>\n",
       "      <td>#include &lt;stdio.h&gt;\\n\\ntypedef int S4;\\n\\n#defi...</td>\n",
       "      <td>[expression.operator.compare.change, control_f...</td>\n",
       "      <td>2</td>\n",
       "      <td>1</td>\n",
       "      <td>NaN</td>\n",
       "    </tr>\n",
       "    <tr>\n",
       "      <th>2</th>\n",
       "      <td>284</td>\n",
       "      <td>423</td>\n",
       "      <td>424</td>\n",
       "      <td>p00000</td>\n",
       "      <td>u611853667</td>\n",
       "      <td>main(n, m) {\\n  for (; n - 9; (m %= 9) || n++)...</td>\n",
       "      <td>main(n, m) {\\n  for (m = 0; n &lt;= 9; (m %= 9) |...</td>\n",
       "      <td>[control_flow.loop.for.initializer.change, con...</td>\n",
       "      <td>4</td>\n",
       "      <td>1</td>\n",
       "      <td>NaN</td>\n",
       "    </tr>\n",
       "    <tr>\n",
       "      <th>3</th>\n",
       "      <td>286</td>\n",
       "      <td>426</td>\n",
       "      <td>427</td>\n",
       "      <td>p00000</td>\n",
       "      <td>u611853667</td>\n",
       "      <td>#include &lt;stdio.h&gt;\\n\\nint main() {\\n  int a, b...</td>\n",
       "      <td>#include &lt;stdio.h&gt;\\n\\nint main() {\\n  int a, b...</td>\n",
       "      <td>[expression.operator.compare.change, control_f...</td>\n",
       "      <td>1</td>\n",
       "      <td>1</td>\n",
       "      <td>NaN</td>\n",
       "    </tr>\n",
       "    <tr>\n",
       "      <th>4</th>\n",
       "      <td>374</td>\n",
       "      <td>540</td>\n",
       "      <td>541</td>\n",
       "      <td>p00000</td>\n",
       "      <td>u904505033</td>\n",
       "      <td>#include &lt;stdio.h&gt;\\nmain() {\\n  int i, j, ans;...</td>\n",
       "      <td>#include &lt;stdio.h&gt;\\nmain() {\\n  int i, j, ans;...</td>\n",
       "      <td>[literal.number.change, control_flow.loop.for....</td>\n",
       "      <td>5</td>\n",
       "      <td>2</td>\n",
       "      <td>NaN</td>\n",
       "    </tr>\n",
       "  </tbody>\n",
       "</table>\n",
       "</div>"
      ],
      "text/plain": [
       "    id  buggy_submission_id  fixed_submission_id problem_id     user_id  \\\n",
       "0  209                  310                  311     p00000  u940395729   \n",
       "1  220                  330                  331     p00000  u673315234   \n",
       "2  284                  423                  424     p00000  u611853667   \n",
       "3  286                  426                  427     p00000  u611853667   \n",
       "4  374                  540                  541     p00000  u904505033   \n",
       "\n",
       "                                          buggy_code  \\\n",
       "0  #include <stdio.h>\\nint main() {\\n  int i, j;\\...   \n",
       "1  #include <stdio.h>\\n\\ntypedef int S4;\\n\\n#defi...   \n",
       "2  main(n, m) {\\n  for (; n - 9; (m %= 9) || n++)...   \n",
       "3  #include <stdio.h>\\n\\nint main() {\\n  int a, b...   \n",
       "4  #include <stdio.h>\\nmain() {\\n  int i, j, ans;...   \n",
       "\n",
       "                                          fixed_code  \\\n",
       "0  #include <stdio.h>\\nint main() {\\n  int i, j;\\...   \n",
       "1  #include <stdio.h>\\n\\ntypedef int S4;\\n\\n#defi...   \n",
       "2  main(n, m) {\\n  for (m = 0; n <= 9; (m %= 9) |...   \n",
       "3  #include <stdio.h>\\n\\nint main() {\\n  int a, b...   \n",
       "4  #include <stdio.h>\\nmain() {\\n  int i, j, ans;...   \n",
       "\n",
       "                                              labels  change_count  \\\n",
       "0  [literal.string.change, call.arguments.change,...             1   \n",
       "1  [expression.operator.compare.change, control_f...             2   \n",
       "2  [control_flow.loop.for.initializer.change, con...             4   \n",
       "3  [expression.operator.compare.change, control_f...             1   \n",
       "4  [literal.number.change, control_flow.loop.for....             5   \n",
       "\n",
       "   line_hunks errors  \n",
       "0           1    NaN  \n",
       "1           1    NaN  \n",
       "2           1    NaN  \n",
       "3           1    NaN  \n",
       "4           2    NaN  "
      ]
     },
     "execution_count": 53,
     "metadata": {},
     "output_type": "execute_result"
    }
   ],
   "source": [
    "test_df.head()"
   ]
  },
  {
   "cell_type": "code",
   "execution_count": 74,
   "metadata": {},
   "outputs": [],
   "source": [
    "bug_id = 13103\n",
    "buggy_code = test_df[test_df['id'] == bug_id]['buggy_code'].iloc[0]\n",
    "fixed_code = test_df[test_df['id'] == bug_id]['fixed_code'].iloc[0]\n",
    "problem_id = test_df[test_df['id'] == bug_id]['problem_id'].iloc[0]\n",
    "\n",
    "input = tests_df[tests_df['problem_id'] == problem_id]['input'].iloc[0]\n",
    "output = tests_df[tests_df['problem_id'] == problem_id]['output'].iloc[0]"
   ]
  },
  {
   "cell_type": "code",
   "execution_count": 75,
   "metadata": {},
   "outputs": [],
   "source": [
    "prompt = f\"\"\"Fix the given buggy code given the code's input and expected output:\n",
    "    \n",
    "Buggy Code:\n",
    "{buggy_code}\n",
    "\n",
    "Code Input:\n",
    "{input}\n",
    "\n",
    "Code Output:\n",
    "{output}\n",
    "\"\"\""
   ]
  },
  {
   "cell_type": "code",
   "execution_count": 76,
   "metadata": {},
   "outputs": [
    {
     "name": "stdout",
     "output_type": "stream",
     "text": [
      "Fix the given buggy code given the code's input and expected output:\n",
      "    \n",
      "Buggy Code:\n",
      "#include <math.h>\n",
      "#include <stdio.h>\n",
      "\n",
      "#define MAX 999999\n",
      "\n",
      "int Primes[MAX + 1];\n",
      "\n",
      "int IsPrime(int n) {\n",
      "  if (n < 2) {\n",
      "    return 0;\n",
      "  }\n",
      "\n",
      "  else if (n == 2) {\n",
      "    return 1;\n",
      "  }\n",
      "\n",
      "  else if (n % 2 == 0) {\n",
      "    return 0;\n",
      "  }\n",
      "\n",
      "  else {\n",
      "    int i = 3;\n",
      "    for (; i < sqrt(n); i += 2) {\n",
      "      if (n % i == 0) {\n",
      "        return 0;\n",
      "      }\n",
      "    }\n",
      "  }\n",
      "\n",
      "  return 1;\n",
      "}\n",
      "\n",
      "int main(void) {\n",
      "  int i;\n",
      "  for (i = 1; i <= MAX; ++i) {\n",
      "    Primes[i] += IsPrime(i) + Primes[i - 1];\n",
      "  }\n",
      "\n",
      "  int N;\n",
      "  while (scanf(\"%d\", &N) != EOF) {\n",
      "    printf(\"%d\\n\", Primes[N]);\n",
      "  }\n",
      "\n",
      "  return 0;\n",
      "}\n",
      "\n",
      "\n",
      "Code Input:\n",
      "10\n",
      "10\n",
      "126\n",
      "\n",
      "Code Output:\n",
      "4\n",
      "4\n",
      "30\n",
      "\n",
      "\n"
     ]
    }
   ],
   "source": [
    "print(prompt)"
   ]
  },
  {
   "cell_type": "code",
   "execution_count": null,
   "metadata": {
    "id": "UwGrrj6hS_x2"
   },
   "outputs": [
    {
     "data": {
      "text/plain": [
       "'#include <math.h>\\n#include <stdio.h>\\n\\n#define MAX 999999\\n\\nint Primes[MAX + 1];\\n\\nint IsPrime(int n) {\\n  if (n < 2) {\\n    return 0;\\n  }\\n\\n  else if (n == 2) {\\n    return 1;\\n  }\\n\\n  else if (n % 2 == 0) {\\n    return 0;\\n  }\\n\\n  else {\\n    int i = 3;\\n    for (; i <= sqrt(n); i += 2) {\\n      if (n % i == 0) {\\n        return 0;\\n      }\\n    }\\n  }\\n\\n  return 1;\\n}\\n\\nint main(void) {\\n  int i;\\n  for (i = 1; i <= MAX; ++i) {\\n    Primes[i] += IsPrime(i) + Primes[i - 1];\\n  }\\n\\n  int N;\\n  while (scanf(\"%d\", &N) != EOF) {\\n    printf(\"%d\\\\n\", Primes[N]);\\n  }\\n\\n  return 0;\\n}\\n'"
      ]
     },
     "execution_count": 77,
     "metadata": {},
     "output_type": "execute_result"
    }
   ],
   "source": [
    "result = model.generate_content(prompt)\n",
    "print(result.text)"
   ]
  },
  {
   "cell_type": "code",
   "execution_count": 79,
   "metadata": {},
   "outputs": [
    {
     "name": "stdout",
     "output_type": "stream",
     "text": [
      "#include <math.h>\n",
      "#include <stdio.h>\n",
      "\n",
      "#define MAX 999999\n",
      "\n",
      "int Primes[MAX + 1];\n",
      "\n",
      "int IsPrime(int n) {\n",
      "  if (n < 2) {\n",
      "    return 0;\n",
      "  }\n",
      "\n",
      "  else if (n == 2) {\n",
      "    return 1;\n",
      "  }\n",
      "\n",
      "  else if (n % 2 == 0) {\n",
      "    return 0;\n",
      "  }\n",
      "\n",
      "  else {\n",
      "    int i = 3;\n",
      "    for (; i <= sqrt(n); i += 2) {\n",
      "      if (n % i == 0) {\n",
      "        return 0;\n",
      "      }\n",
      "    }\n",
      "  }\n",
      "\n",
      "  return 1;\n",
      "}\n",
      "\n",
      "int main(void) {\n",
      "  int i;\n",
      "  for (i = 1; i <= MAX; ++i) {\n",
      "    Primes[i] += IsPrime(i) + Primes[i - 1];\n",
      "  }\n",
      "\n",
      "  int N;\n",
      "  while (scanf(\"%d\", &N) != EOF) {\n",
      "    printf(\"%d\\n\", Primes[N]);\n",
      "  }\n",
      "\n",
      "  return 0;\n",
      "}\n",
      "\n"
     ]
    }
   ],
   "source": [
    "print(fixed_code)"
   ]
  },
  {
   "cell_type": "markdown",
   "metadata": {
    "id": "i_TpwvBB4bQ7"
   },
   "source": [
    "## Delete the model\n",
    "\n",
    "You can clean up your tuned model list by deleting models you no longer need. Use the `genai.delete_tuned_model` method to delete a model. If you canceled any tuning jobs, you may want to delete those as their performance may be unpredictable."
   ]
  },
  {
   "cell_type": "code",
   "execution_count": null,
   "metadata": {
    "id": "cepfaUCvVGCo"
   },
   "outputs": [],
   "source": [
    "genai.delete_tuned_model(old_model)"
   ]
  },
  {
   "cell_type": "markdown",
   "metadata": {
    "id": "ljEssIshYDEr"
   },
   "source": [
    "The model no longer exists:"
   ]
  },
  {
   "cell_type": "code",
   "execution_count": null,
   "metadata": {
    "id": "kN_bkut_4ayL"
   },
   "outputs": [
    {
     "name": "stdout",
     "output_type": "stream",
     "text": [
      "<class 'google.api_core.exceptions.NotFound'>: 404 GET https://generativelanguage.googleapis.com/v1beta/tunedModels/generate-num-8122?%24alt=json%3Benum-encoding%3Dint: Tuned model tunedModels/generate-num-8122 does not exist.\n"
     ]
    },
    {
     "name": "stderr",
     "output_type": "stream",
     "text": [
      "WARNING:tornado.access:404 GET /v1beta/tunedModels/generate-num-8122?%24alt=json%3Benum-encoding%3Dint (127.0.0.1) 838.85ms\n"
     ]
    }
   ],
   "source": [
    "try:\n",
    "  m = genai.get_tuned_model(old_model)\n",
    "  print(m)\n",
    "except Exception as e:\n",
    "  print(f\"{type(e)}: {e}\")"
   ]
  }
 ],
 "metadata": {
  "colab": {
   "name": "python.ipynb",
   "toc_visible": true
  },
  "kernelspec": {
   "display_name": "Python 3",
   "name": "python3"
  },
  "language_info": {
   "codemirror_mode": {
    "name": "ipython",
    "version": 3
   },
   "file_extension": ".py",
   "mimetype": "text/x-python",
   "name": "python",
   "nbconvert_exporter": "python",
   "pygments_lexer": "ipython3",
   "version": "3.12.1"
  }
 },
 "nbformat": 4,
 "nbformat_minor": 0
}
